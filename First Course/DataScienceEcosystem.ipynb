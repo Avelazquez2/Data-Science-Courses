{
 "cells": [
  {
   "cell_type": "markdown",
   "id": "dd886a3a-011d-464c-a761-583fd57bd080",
   "metadata": {},
   "source": [
    "# Data Science Tools and Ecosystem"
   ]
  },
  {
   "cell_type": "markdown",
   "id": "9c9bbc58-c4a9-4f75-950b-8f2166feb9fe",
   "metadata": {},
   "source": [
    "In this notebook, Data Science Tools and Ecosystem are summarized."
   ]
  },
  {
   "cell_type": "markdown",
   "id": "30af37ca-6a96-40e1-86ec-c5360a45377f",
   "metadata": {
    "tags": []
   },
   "source": [
    "**Objectives:**\n",
    "* List popular languages for Data Science\n",
    "* List of commonly used libraries used by Data Scientists\n",
    "* Table of Data Science tools\n",
    "* Examples of evaulating arithmetic expressions"
   ]
  },
  {
   "cell_type": "markdown",
   "id": "8dfd7116-011f-42af-a47e-4626d037042d",
   "metadata": {},
   "source": [
    "Some of the popular languages that Data Scientists use are:\n",
    "1. R\n",
    "2. Python\n",
    "3. SQL"
   ]
  },
  {
   "cell_type": "markdown",
   "id": "514e967f-0138-47c3-85df-c198675b4cf5",
   "metadata": {},
   "source": [
    "Some of the commonly used libraries used by Data Scientists include:\n",
    "1. pandas\n",
    "2. matplotlib\n",
    "3. numPy"
   ]
  },
  {
   "cell_type": "markdown",
   "id": "e99fcc35-0806-43eb-aa4e-8d75eb090c0d",
   "metadata": {},
   "source": [
    "| Data Science Tools |\n",
    "| ------------------ |\n",
    "| RStudio |\n",
    "| Jupyter Notebooks |\n",
    "| MySQL |"
   ]
  },
  {
   "cell_type": "markdown",
   "id": "95d27233-2227-4594-91b6-a48e6d887389",
   "metadata": {},
   "source": [
    "### Below are a few examples of evaluating arithmetic expressions in Python"
   ]
  },
  {
   "cell_type": "code",
   "execution_count": 2,
   "id": "2e18a69a-8a17-483e-8eec-16011b612b5c",
   "metadata": {
    "tags": []
   },
   "outputs": [
    {
     "data": {
      "text/plain": [
       "17"
      ]
     },
     "execution_count": 2,
     "metadata": {},
     "output_type": "execute_result"
    }
   ],
   "source": [
    "# This a simple arithmetic expression to mutiply then add integers\n",
    "(3*4)+5"
   ]
  },
  {
   "cell_type": "code",
   "execution_count": 3,
   "id": "fba735e2-dd29-433e-a7f3-080caf7a0c36",
   "metadata": {
    "tags": []
   },
   "outputs": [
    {
     "data": {
      "text/plain": [
       "3.3333333333333335"
      ]
     },
     "execution_count": 3,
     "metadata": {},
     "output_type": "execute_result"
    }
   ],
   "source": [
    "# This will convert 200 minutes to hours by diving by 60\n",
    "200/60"
   ]
  },
  {
   "cell_type": "markdown",
   "id": "f6705de9-042f-48b0-8379-f97f5944ffcc",
   "metadata": {},
   "source": [
    "## Author\n",
    "Anais Velazquez"
   ]
  }
 ],
 "metadata": {
  "kernelspec": {
   "display_name": "Python",
   "language": "python",
   "name": "conda-env-python-py"
  },
  "language_info": {
   "codemirror_mode": {
    "name": "ipython",
    "version": 3
   },
   "file_extension": ".py",
   "mimetype": "text/x-python",
   "name": "python",
   "nbconvert_exporter": "python",
   "pygments_lexer": "ipython3",
   "version": "3.7.12"
  }
 },
 "nbformat": 4,
 "nbformat_minor": 5
}
